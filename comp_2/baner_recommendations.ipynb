{
 "cells": [
  {
   "cell_type": "code",
   "execution_count": 1,
   "metadata": {},
   "outputs": [],
   "source": [
    "import pandas as pd\n",
    "from scipy import sparse\n",
    "from implicit.nearest_neighbours import CosineRecommender"
   ]
  },
  {
   "cell_type": "code",
   "execution_count": 2,
   "metadata": {},
   "outputs": [],
   "source": [
    "train_data_path = 'data/train.csv'\n",
    "test_data_path = 'data/test.csv'"
   ]
  },
  {
   "cell_type": "code",
   "execution_count": 3,
   "metadata": {},
   "outputs": [],
   "source": [
    "train_df = pd.read_csv(train_data_path)\n",
    "test_df = pd.read_csv(test_data_path)"
   ]
  },
  {
   "cell_type": "markdown",
   "metadata": {},
   "source": [
    "# popularity"
   ]
  },
  {
   "cell_type": "code",
   "execution_count": 4,
   "metadata": {},
   "outputs": [
    {
     "data": {
      "text/html": [
       "<div>\n",
       "<style scoped>\n",
       "    .dataframe tbody tr th:only-of-type {\n",
       "        vertical-align: middle;\n",
       "    }\n",
       "\n",
       "    .dataframe tbody tr th {\n",
       "        vertical-align: top;\n",
       "    }\n",
       "\n",
       "    .dataframe thead th {\n",
       "        text-align: right;\n",
       "    }\n",
       "</style>\n",
       "<table border=\"1\" class=\"dataframe\">\n",
       "  <thead>\n",
       "    <tr style=\"text-align: right;\">\n",
       "      <th></th>\n",
       "      <th>user_id</th>\n",
       "    </tr>\n",
       "    <tr>\n",
       "      <th>item_id</th>\n",
       "      <th></th>\n",
       "    </tr>\n",
       "  </thead>\n",
       "  <tbody>\n",
       "    <tr>\n",
       "      <th>76</th>\n",
       "      <td>97</td>\n",
       "    </tr>\n",
       "    <tr>\n",
       "      <th>22</th>\n",
       "      <td>77</td>\n",
       "    </tr>\n",
       "    <tr>\n",
       "      <th>35</th>\n",
       "      <td>76</td>\n",
       "    </tr>\n",
       "  </tbody>\n",
       "</table>\n",
       "</div>"
      ],
      "text/plain": [
       "         user_id\n",
       "item_id         \n",
       "76            97\n",
       "22            77\n",
       "35            76"
      ]
     },
     "execution_count": 4,
     "metadata": {},
     "output_type": "execute_result"
    }
   ],
   "source": [
    "item_popularity = train_df[train_df['like']==1].groupby('item_id')[['user_id']].count()\n",
    "item_popularity = item_popularity.sort_values('user_id', ascending=False)\n",
    "top_60 = item_popularity.index[:60]\n",
    "item_popularity.head(3)"
   ]
  },
  {
   "cell_type": "code",
   "execution_count": 6,
   "metadata": {},
   "outputs": [
    {
     "data": {
      "text/plain": [
       "user_id\n",
       "0    [125, 29, 96, 213, 212, 89, 54, 1, 108, 214, 2...\n",
       "1    [54, 20, 0, 27, 108, 213, 210, 4, 132, 5, 3, 2...\n",
       "2    [163, 205, 229, 231, 222, 227, 221, 6, 224, 23...\n",
       "Name: item_id, dtype: object"
      ]
     },
     "execution_count": 6,
     "metadata": {},
     "output_type": "execute_result"
    }
   ],
   "source": [
    "user_watched = train_df.groupby('user_id')['item_id'].agg(list)\n",
    "user_watched.head(3)"
   ]
  },
  {
   "cell_type": "code",
   "execution_count": 7,
   "metadata": {},
   "outputs": [],
   "source": [
    "def array_difference(first, second):\n",
    "    \"\"\" Return elements from first array but not in second\n",
    "    \"\"\"\n",
    "    return [item for item in first if item not in second]\n",
    "\n",
    "\n",
    "def recommend_popular(user_id, N=20):\n",
    "    \"\"\" Recommend N popular items except already watched items\n",
    "    \"\"\"\n",
    "    watched_history = user_watched.iloc[user_id]\n",
    "    recomends = array_difference(top_60, watched_history)\n",
    "    return recomends[:N]"
   ]
  },
  {
   "cell_type": "code",
   "execution_count": 9,
   "metadata": {},
   "outputs": [],
   "source": [
    "recommendation_baseline = []\n",
    "for user_id in test_df['user_id']:\n",
    "    user_recs = recommend_popular(user_id)\n",
    "    user_recs.append(user_id)  # add user_id column\n",
    "    recommendation_baseline.append(user_recs)"
   ]
  },
  {
   "cell_type": "code",
   "execution_count": 10,
   "metadata": {},
   "outputs": [],
   "source": [
    "column_names = [str(i) for i in range(20)]\n",
    "column_names.append('user_id')\n",
    "baseline_df = pd.DataFrame(recommendation_baseline, columns=column_names)"
   ]
  },
  {
   "cell_type": "markdown",
   "metadata": {},
   "source": [
    "0.5392 on public"
   ]
  },
  {
   "cell_type": "code",
   "execution_count": 11,
   "metadata": {},
   "outputs": [],
   "source": [
    "baseline_df.to_csv('submit_01.csv', index=False)"
   ]
  },
  {
   "cell_type": "markdown",
   "metadata": {},
   "source": [
    "# implicit"
   ]
  },
  {
   "cell_type": "code",
   "execution_count": 12,
   "metadata": {},
   "outputs": [],
   "source": [
    "def revert_dict(dic):\n",
    "    \"\"\" Reverting dictionary from k:v to v:k\n",
    "    \"\"\"\n",
    "    return {v:k for k,v in dic.items()}\n",
    "\n",
    "\n",
    "def make_sparse(data_df, user_col='user_id', items_col='item_id', target_col='like'):\n",
    "    \"\"\" Converting pandas interaction DataFrame to csr sparse matrix\n",
    "        data_df: DataFrame with user/item iteractions\n",
    "        user_col: name of user ids column\n",
    "        user_col: name of item ids column\n",
    "        target_col: name of target ids column, if you have implicit feedback, just create column\n",
    "                    with constant value\n",
    "    \"\"\"\n",
    "    data_df = data_df.copy()\n",
    "    feedback_df[user_col] = feedback_df[user_col].astype('category')\n",
    "    feedback_df[items_col] = feedback_df[items_col].astype('category')\n",
    "    feedback_df[target_col] = feedback_df[target_col].astype('float')\n",
    "    \n",
    "    user_model_real_dict = dict(enumerate(feedback_df[user_col].cat.categories))\n",
    "    item_model_real_dict = dict(enumerate(feedback_df[items_col].cat.categories))\n",
    "    \n",
    "    data_coo = sparse.coo_matrix((feedback_df[target_col],\n",
    "                                 (feedback_df[user_col].cat.codes, feedback_df[items_col].cat.codes)))\n",
    "\n",
    "    return data_coo.tocsr(), user_model_real_dict, item_model_real_dict"
   ]
  },
  {
   "cell_type": "code",
   "execution_count": 13,
   "metadata": {},
   "outputs": [],
   "source": [
    "feedback_df = train_df[train_df['like'] == 1].copy()\n",
    "\n",
    "train_csr, user_model_real, item_model_real = make_sparse(feedback_df)\n",
    "user_real_model = revert_dict(user_model_real)"
   ]
  },
  {
   "cell_type": "code",
   "execution_count": 14,
   "metadata": {},
   "outputs": [
    {
     "data": {
      "application/vnd.jupyter.widget-view+json": {
       "model_id": "18f46756ed194420af255f48d879548d",
       "version_major": 2,
       "version_minor": 0
      },
      "text/plain": [
       "HBox(children=(FloatProgress(value=0.0, max=203.0), HTML(value='')))"
      ]
     },
     "metadata": {},
     "output_type": "display_data"
    },
    {
     "name": "stdout",
     "output_type": "stream",
     "text": [
      "\n"
     ]
    }
   ],
   "source": [
    "model = CosineRecommender(2)\n",
    "model.fit(train_csr.T)"
   ]
  },
  {
   "cell_type": "code",
   "execution_count": 15,
   "metadata": {},
   "outputs": [],
   "source": [
    "recommendations = []\n",
    "N_recommendations = 20\n",
    "for user_id in test_df['user_id']:\n",
    "    user_model_id = user_real_model[user_id]  # encoding user_id\n",
    "    predict = model.recommend(user_model_id, train_csr, N=20, filter_already_liked_items=True)\n",
    "    \n",
    "    predict_decoded = [item_model_real[itm] for itm,score in predict]  # decoding item_id\n",
    "    watched_history = user_watched.iloc[user_id]\n",
    "    predict_decoded = array_difference(predict_decoded, watched_history)  # filter already watched\n",
    "\n",
    "    need_more = N_recommendations - len(predict_decoded)\n",
    "    if need_more > 0:\n",
    "        more_items = array_difference(top_60, predict_decoded)  # filter already recommended\n",
    "        more_items = array_difference(more_items, watched_history)  # filter already watched\n",
    "        predict_decoded.extend(more_items[:need_more])\n",
    "        \n",
    "    predict_decoded.append(user_id)  # add user_id column\n",
    "    recommendations.append(predict_decoded)"
   ]
  },
  {
   "cell_type": "code",
   "execution_count": 16,
   "metadata": {},
   "outputs": [],
   "source": [
    "final_recs = pd.DataFrame(recommendations, columns=column_names)"
   ]
  },
  {
   "cell_type": "markdown",
   "metadata": {},
   "source": [
    "0.5452 on public"
   ]
  },
  {
   "cell_type": "code",
   "execution_count": 17,
   "metadata": {},
   "outputs": [],
   "source": [
    "final_recs.to_csv('submit_02.csv', index=False)"
   ]
  }
 ],
 "metadata": {
  "kernelspec": {
   "display_name": "Python 3",
   "language": "python",
   "name": "python3"
  },
  "language_info": {
   "codemirror_mode": {
    "name": "ipython",
    "version": 3
   },
   "file_extension": ".py",
   "mimetype": "text/x-python",
   "name": "python",
   "nbconvert_exporter": "python",
   "pygments_lexer": "ipython3",
   "version": "3.7.6"
  }
 },
 "nbformat": 4,
 "nbformat_minor": 4
}
